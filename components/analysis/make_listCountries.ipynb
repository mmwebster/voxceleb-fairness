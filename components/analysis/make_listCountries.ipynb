{
 "cells": [
  {
   "cell_type": "code",
   "execution_count": 1,
   "metadata": {},
   "outputs": [],
   "source": [
    "import pandas as pd\n",
    "import os, errno\n",
    "import time"
   ]
  },
  {
   "cell_type": "code",
   "execution_count": 2,
   "metadata": {},
   "outputs": [],
   "source": [
    "meta = pd.read_csv('vox1_meta.csv', sep='\\t')"
   ]
  },
  {
   "cell_type": "code",
   "execution_count": 3,
   "metadata": {},
   "outputs": [
    {
     "data": {
      "text/plain": [
       "USA                    799\n",
       "UK                     215\n",
       "Canada                  54\n",
       "Australia               37\n",
       "India                   26\n",
       "Norway                  20\n",
       "Ireland                 18\n",
       "Germany                  9\n",
       "New Zealand              8\n",
       "Italy                    8\n",
       "Mexico                   7\n",
       "Sweden                   5\n",
       "Russia                   4\n",
       "Spain                    4\n",
       "Switzerland              3\n",
       "Chile                    3\n",
       "Philippines              3\n",
       "Netherlands              3\n",
       "Croatia                  3\n",
       "Denmark                  3\n",
       "Poland                   2\n",
       "China                    2\n",
       "Portugal                 2\n",
       "South Korea              1\n",
       "Brazil                   1\n",
       "Sri Lanka                1\n",
       "Israel                   1\n",
       "Trinidad and Tobago      1\n",
       "Iran                     1\n",
       "Singapore                1\n",
       "Austria                  1\n",
       "Sudan                    1\n",
       "France                   1\n",
       "South Africa             1\n",
       "Guyana                   1\n",
       "Pakistan                 1\n",
       "Name: Nationality, dtype: int64"
      ]
     },
     "execution_count": 3,
     "metadata": {},
     "output_type": "execute_result"
    }
   ],
   "source": [
    "meta[\"Nationality\"].value_counts()"
   ]
  },
  {
   "cell_type": "code",
   "execution_count": 4,
   "metadata": {},
   "outputs": [
    {
     "data": {
      "text/html": [
       "<div>\n",
       "<style scoped>\n",
       "    .dataframe tbody tr th:only-of-type {\n",
       "        vertical-align: middle;\n",
       "    }\n",
       "\n",
       "    .dataframe tbody tr th {\n",
       "        vertical-align: top;\n",
       "    }\n",
       "\n",
       "    .dataframe thead th {\n",
       "        text-align: right;\n",
       "    }\n",
       "</style>\n",
       "<table border=\"1\" class=\"dataframe\">\n",
       "  <thead>\n",
       "    <tr style=\"text-align: right;\">\n",
       "      <th></th>\n",
       "      <th>VoxCeleb1 ID</th>\n",
       "      <th>VGGFace1 ID</th>\n",
       "      <th>Gender</th>\n",
       "      <th>Nationality</th>\n",
       "      <th>Set</th>\n",
       "    </tr>\n",
       "  </thead>\n",
       "  <tbody>\n",
       "    <tr>\n",
       "      <th>0</th>\n",
       "      <td>id10001</td>\n",
       "      <td>A.J._Buckley</td>\n",
       "      <td>m</td>\n",
       "      <td>Ireland</td>\n",
       "      <td>dev</td>\n",
       "    </tr>\n",
       "    <tr>\n",
       "      <th>1</th>\n",
       "      <td>id10002</td>\n",
       "      <td>A.R._Rahman</td>\n",
       "      <td>m</td>\n",
       "      <td>India</td>\n",
       "      <td>dev</td>\n",
       "    </tr>\n",
       "    <tr>\n",
       "      <th>2</th>\n",
       "      <td>id10003</td>\n",
       "      <td>Aamir_Khan</td>\n",
       "      <td>m</td>\n",
       "      <td>India</td>\n",
       "      <td>dev</td>\n",
       "    </tr>\n",
       "    <tr>\n",
       "      <th>3</th>\n",
       "      <td>id10004</td>\n",
       "      <td>Aaron_Tveit</td>\n",
       "      <td>m</td>\n",
       "      <td>USA</td>\n",
       "      <td>dev</td>\n",
       "    </tr>\n",
       "    <tr>\n",
       "      <th>4</th>\n",
       "      <td>id10005</td>\n",
       "      <td>Aaron_Yoo</td>\n",
       "      <td>m</td>\n",
       "      <td>USA</td>\n",
       "      <td>dev</td>\n",
       "    </tr>\n",
       "    <tr>\n",
       "      <th>...</th>\n",
       "      <td>...</td>\n",
       "      <td>...</td>\n",
       "      <td>...</td>\n",
       "      <td>...</td>\n",
       "      <td>...</td>\n",
       "    </tr>\n",
       "    <tr>\n",
       "      <th>1246</th>\n",
       "      <td>id11247</td>\n",
       "      <td>Zachary_Levi</td>\n",
       "      <td>m</td>\n",
       "      <td>USA</td>\n",
       "      <td>dev</td>\n",
       "    </tr>\n",
       "    <tr>\n",
       "      <th>1247</th>\n",
       "      <td>id11248</td>\n",
       "      <td>Zachary_Quinto</td>\n",
       "      <td>m</td>\n",
       "      <td>USA</td>\n",
       "      <td>dev</td>\n",
       "    </tr>\n",
       "    <tr>\n",
       "      <th>1248</th>\n",
       "      <td>id11249</td>\n",
       "      <td>Zack_Snyder</td>\n",
       "      <td>m</td>\n",
       "      <td>USA</td>\n",
       "      <td>dev</td>\n",
       "    </tr>\n",
       "    <tr>\n",
       "      <th>1249</th>\n",
       "      <td>id11250</td>\n",
       "      <td>Zoe_Saldana</td>\n",
       "      <td>f</td>\n",
       "      <td>USA</td>\n",
       "      <td>dev</td>\n",
       "    </tr>\n",
       "    <tr>\n",
       "      <th>1250</th>\n",
       "      <td>id11251</td>\n",
       "      <td>Zulay_Henao</td>\n",
       "      <td>f</td>\n",
       "      <td>USA</td>\n",
       "      <td>dev</td>\n",
       "    </tr>\n",
       "  </tbody>\n",
       "</table>\n",
       "<p>1251 rows × 5 columns</p>\n",
       "</div>"
      ],
      "text/plain": [
       "     VoxCeleb1 ID     VGGFace1 ID Gender Nationality  Set\n",
       "0         id10001    A.J._Buckley      m     Ireland  dev\n",
       "1         id10002     A.R._Rahman      m       India  dev\n",
       "2         id10003      Aamir_Khan      m       India  dev\n",
       "3         id10004     Aaron_Tveit      m         USA  dev\n",
       "4         id10005       Aaron_Yoo      m         USA  dev\n",
       "...           ...             ...    ...         ...  ...\n",
       "1246      id11247    Zachary_Levi      m         USA  dev\n",
       "1247      id11248  Zachary_Quinto      m         USA  dev\n",
       "1248      id11249     Zack_Snyder      m         USA  dev\n",
       "1249      id11250     Zoe_Saldana      f         USA  dev\n",
       "1250      id11251     Zulay_Henao      f         USA  dev\n",
       "\n",
       "[1251 rows x 5 columns]"
      ]
     },
     "execution_count": 4,
     "metadata": {},
     "output_type": "execute_result"
    }
   ],
   "source": [
    "meta"
   ]
  },
  {
   "cell_type": "code",
   "execution_count": 5,
   "metadata": {},
   "outputs": [],
   "source": [
    "def GetIds(male=True):\n",
    "    g = 'm' if male else 'f'\n",
    "    return meta[meta[\"Gender\"] == g]['VoxCeleb1 ID']"
   ]
  },
  {
   "cell_type": "code",
   "execution_count": 6,
   "metadata": {},
   "outputs": [],
   "source": [
    "male_ids = set(GetIds())\n",
    "female_ids = set(GetIds(male=False))"
   ]
  },
  {
   "cell_type": "code",
   "execution_count": 7,
   "metadata": {},
   "outputs": [],
   "source": [
    "USA_ids = meta[meta[\"Nationality\"] == 'USA']['VoxCeleb1 ID']\n",
    "UK_ids = meta[meta[\"Nationality\"] == 'UK']['VoxCeleb1 ID']\n",
    "Canada_ids = meta[meta[\"Nationality\"] == 'Canada']['VoxCeleb1 ID']\n",
    "Australia_ids = meta[meta[\"Nationality\"] == 'Australia']['VoxCeleb1 ID']\n",
    "India_ids = meta[meta[\"Nationality\"] == 'India']['VoxCeleb1 ID']\n",
    "Norway_ids = meta[meta[\"Nationality\"] == 'Norway']['VoxCeleb1 ID']\n",
    "Ireland_ids = meta[meta[\"Nationality\"] == 'Ireland']['VoxCeleb1 ID']"
   ]
  },
  {
   "cell_type": "code",
   "execution_count": 8,
   "metadata": {},
   "outputs": [],
   "source": [
    "utters = pd.read_csv('/home/jupyter/voxceleb-fairness/data/datasets/full/vox1_full_utterances.txt', header=None, sep=' ')"
   ]
  },
  {
   "cell_type": "code",
   "execution_count": 9,
   "metadata": {},
   "outputs": [],
   "source": [
    "male_utters = utters[[x in male_ids for x in utters[0]]].sample(5000).reset_index(drop=True)"
   ]
  },
  {
   "cell_type": "code",
   "execution_count": 10,
   "metadata": {},
   "outputs": [
    {
     "data": {
      "text/html": [
       "<div>\n",
       "<style scoped>\n",
       "    .dataframe tbody tr th:only-of-type {\n",
       "        vertical-align: middle;\n",
       "    }\n",
       "\n",
       "    .dataframe tbody tr th {\n",
       "        vertical-align: top;\n",
       "    }\n",
       "\n",
       "    .dataframe thead th {\n",
       "        text-align: right;\n",
       "    }\n",
       "</style>\n",
       "<table border=\"1\" class=\"dataframe\">\n",
       "  <thead>\n",
       "    <tr style=\"text-align: right;\">\n",
       "      <th></th>\n",
       "      <th>0</th>\n",
       "      <th>1</th>\n",
       "    </tr>\n",
       "  </thead>\n",
       "  <tbody>\n",
       "    <tr>\n",
       "      <th>0</th>\n",
       "      <td>id11230</td>\n",
       "      <td>id11230/NzkV5Ct5L6A/00009.wav</td>\n",
       "    </tr>\n",
       "    <tr>\n",
       "      <th>1</th>\n",
       "      <td>id10845</td>\n",
       "      <td>id10845/i5mhrsoDndM/00001.wav</td>\n",
       "    </tr>\n",
       "    <tr>\n",
       "      <th>2</th>\n",
       "      <td>id11121</td>\n",
       "      <td>id11121/VEe3X5EH6oM/00007.wav</td>\n",
       "    </tr>\n",
       "    <tr>\n",
       "      <th>3</th>\n",
       "      <td>id10490</td>\n",
       "      <td>id10490/EGCzwG5t7OU/00002.wav</td>\n",
       "    </tr>\n",
       "    <tr>\n",
       "      <th>4</th>\n",
       "      <td>id10105</td>\n",
       "      <td>id10105/wrHyTrC37FQ/00158.wav</td>\n",
       "    </tr>\n",
       "    <tr>\n",
       "      <th>...</th>\n",
       "      <td>...</td>\n",
       "      <td>...</td>\n",
       "    </tr>\n",
       "    <tr>\n",
       "      <th>4995</th>\n",
       "      <td>id10412</td>\n",
       "      <td>id10412/UN6BeUs8td4/00008.wav</td>\n",
       "    </tr>\n",
       "    <tr>\n",
       "      <th>4996</th>\n",
       "      <td>id10018</td>\n",
       "      <td>id10018/BaesL7QJLFU/00027.wav</td>\n",
       "    </tr>\n",
       "    <tr>\n",
       "      <th>4997</th>\n",
       "      <td>id10920</td>\n",
       "      <td>id10920/kgqSlgRoBy4/00002.wav</td>\n",
       "    </tr>\n",
       "    <tr>\n",
       "      <th>4998</th>\n",
       "      <td>id10836</td>\n",
       "      <td>id10836/f6MLIpHjyn8/00015.wav</td>\n",
       "    </tr>\n",
       "    <tr>\n",
       "      <th>4999</th>\n",
       "      <td>id11173</td>\n",
       "      <td>id11173/Eo_96YmM1A4/00009.wav</td>\n",
       "    </tr>\n",
       "  </tbody>\n",
       "</table>\n",
       "<p>5000 rows × 2 columns</p>\n",
       "</div>"
      ],
      "text/plain": [
       "            0                              1\n",
       "0     id11230  id11230/NzkV5Ct5L6A/00009.wav\n",
       "1     id10845  id10845/i5mhrsoDndM/00001.wav\n",
       "2     id11121  id11121/VEe3X5EH6oM/00007.wav\n",
       "3     id10490  id10490/EGCzwG5t7OU/00002.wav\n",
       "4     id10105  id10105/wrHyTrC37FQ/00158.wav\n",
       "...       ...                            ...\n",
       "4995  id10412  id10412/UN6BeUs8td4/00008.wav\n",
       "4996  id10018  id10018/BaesL7QJLFU/00027.wav\n",
       "4997  id10920  id10920/kgqSlgRoBy4/00002.wav\n",
       "4998  id10836  id10836/f6MLIpHjyn8/00015.wav\n",
       "4999  id11173  id11173/Eo_96YmM1A4/00009.wav\n",
       "\n",
       "[5000 rows x 2 columns]"
      ]
     },
     "execution_count": 10,
     "metadata": {},
     "output_type": "execute_result"
    }
   ],
   "source": [
    "male_utters"
   ]
  },
  {
   "cell_type": "code",
   "execution_count": 11,
   "metadata": {},
   "outputs": [],
   "source": [
    "female_utters = utters[[x in female_ids for x in utters[0]]].sample(5000).reset_index(drop=True)"
   ]
  },
  {
   "cell_type": "code",
   "execution_count": 12,
   "metadata": {},
   "outputs": [],
   "source": [
    "def silentremove(filename):\n",
    "    try:\n",
    "        os.remove(filename)\n",
    "    except OSError as e: # this would be \"except OSError, e:\" before Python 2.6\n",
    "        if e.errno != errno.ENOENT: # errno.ENOENT = no such file or directory\n",
    "            raise # re-raise exception if a different error occurred"
   ]
  },
  {
   "cell_type": "code",
   "execution_count": 13,
   "metadata": {},
   "outputs": [],
   "source": [
    "def make_pairs(utters_df, filename):\n",
    "    silentremove(filename)\n",
    "    start = time.time()\n",
    "    current_iter_start = start\n",
    "    for i in range(len(utters_df)):\n",
    "        data = []\n",
    "        for j in range(i + 1, len(utters_df)):\n",
    "            num = 1 if utters_df[0][i] == utters_df[0][j] else 0\n",
    "            data.append([num, utters_df[1][i], utters_df[1][j]])\n",
    "        pd.DataFrame(data).to_csv(filename, mode='a', index=False, header=None, sep=' ')\n",
    "        if i % 1000 == 0:\n",
    "            current_iter_end = time.time()\n",
    "            print('Wrote {} of {} utterances in {} seconds ({} seconds from start)'.format(i, len(utters_df), current_iter_end - current_iter_start, current_iter_end - start))\n",
    "            current_iter_start = current_iter_end"
   ]
  },
  {
   "cell_type": "code",
   "execution_count": 14,
   "metadata": {},
   "outputs": [
    {
     "name": "stdout",
     "output_type": "stream",
     "text": [
      "Wrote 0 of 5000 utterances in 0.11998939514160156 seconds (0.11998939514160156 seconds from start)\n",
      "Wrote 1000 of 5000 utterances in 105.78200435638428 seconds (105.90199375152588 seconds from start)\n",
      "Wrote 2000 of 5000 utterances in 83.18765497207642 seconds (189.0896487236023 seconds from start)\n",
      "Wrote 3000 of 5000 utterances in 58.98132395744324 seconds (248.07097268104553 seconds from start)\n",
      "Wrote 4000 of 5000 utterances in 35.662431478500366 seconds (283.7334041595459 seconds from start)\n"
     ]
    }
   ],
   "source": [
    "make_pairs(male_utters, '/home/jupyter/voxceleb-fairness/data/lists/vox1_male_all.txt')"
   ]
  },
  {
   "cell_type": "code",
   "execution_count": 15,
   "metadata": {},
   "outputs": [],
   "source": [
    "male_pairs = pd.read_csv('/home/jupyter/voxceleb-fairness/data/lists/vox1_male_all.txt', header=None, sep=' ')"
   ]
  },
  {
   "cell_type": "code",
   "execution_count": 16,
   "metadata": {},
   "outputs": [],
   "source": [
    "balanced_male_pairs = pd.concat([male_pairs[male_pairs[0] == 1].reset_index(drop=True), male_pairs[male_pairs[0] == 0].sample(sum(male_pairs[0] == 1)).reset_index(drop=True)]).sort_index().reset_index(drop=True)"
   ]
  },
  {
   "cell_type": "code",
   "execution_count": 27,
   "metadata": {},
   "outputs": [
    {
     "data": {
      "text/html": [
       "<div>\n",
       "<style scoped>\n",
       "    .dataframe tbody tr th:only-of-type {\n",
       "        vertical-align: middle;\n",
       "    }\n",
       "\n",
       "    .dataframe tbody tr th {\n",
       "        vertical-align: top;\n",
       "    }\n",
       "\n",
       "    .dataframe thead th {\n",
       "        text-align: right;\n",
       "    }\n",
       "</style>\n",
       "<table border=\"1\" class=\"dataframe\">\n",
       "  <thead>\n",
       "    <tr style=\"text-align: right;\">\n",
       "      <th></th>\n",
       "      <th>0</th>\n",
       "      <th>1</th>\n",
       "      <th>2</th>\n",
       "    </tr>\n",
       "  </thead>\n",
       "  <tbody>\n",
       "    <tr>\n",
       "      <th>0</th>\n",
       "      <td>1</td>\n",
       "      <td>id11230/NzkV5Ct5L6A/00009.wav</td>\n",
       "      <td>id11230/QT0T8hWKh1Y/00007.wav</td>\n",
       "    </tr>\n",
       "    <tr>\n",
       "      <th>1</th>\n",
       "      <td>0</td>\n",
       "      <td>id11184/2fq0yy2gN9k/00034.wav</td>\n",
       "      <td>id10538/R8cb0F2NUcU/00001.wav</td>\n",
       "    </tr>\n",
       "    <tr>\n",
       "      <th>2</th>\n",
       "      <td>1</td>\n",
       "      <td>id11230/NzkV5Ct5L6A/00009.wav</td>\n",
       "      <td>id11230/HqqLQgVZktQ/00001.wav</td>\n",
       "    </tr>\n",
       "    <tr>\n",
       "      <th>3</th>\n",
       "      <td>0</td>\n",
       "      <td>id10143/69XxH60bd4Y/00003.wav</td>\n",
       "      <td>id10918/giRD3g15ZSg/00003.wav</td>\n",
       "    </tr>\n",
       "    <tr>\n",
       "      <th>4</th>\n",
       "      <td>1</td>\n",
       "      <td>id11230/NzkV5Ct5L6A/00009.wav</td>\n",
       "      <td>id11230/ADLO9eWGUIY/00011.wav</td>\n",
       "    </tr>\n",
       "    <tr>\n",
       "      <th>...</th>\n",
       "      <td>...</td>\n",
       "      <td>...</td>\n",
       "      <td>...</td>\n",
       "    </tr>\n",
       "    <tr>\n",
       "      <th>52783</th>\n",
       "      <td>1</td>\n",
       "      <td>id10635/3euqU5PKafw/00004.wav</td>\n",
       "      <td>id10635/phVMDrsjxrk/00015.wav</td>\n",
       "    </tr>\n",
       "    <tr>\n",
       "      <th>52784</th>\n",
       "      <td>0</td>\n",
       "      <td>id10719/3kRa0SluANU/00004.wav</td>\n",
       "      <td>id10991/46hVZI15pmE/00004.wav</td>\n",
       "    </tr>\n",
       "    <tr>\n",
       "      <th>52785</th>\n",
       "      <td>1</td>\n",
       "      <td>id10540/x056ioqqn8A/00003.wav</td>\n",
       "      <td>id10540/G2W41pvvZs0/00007.wav</td>\n",
       "    </tr>\n",
       "    <tr>\n",
       "      <th>52786</th>\n",
       "      <td>1</td>\n",
       "      <td>id10484/qBrXmKPpFYY/00007.wav</td>\n",
       "      <td>id10484/qBrXmKPpFYY/00028.wav</td>\n",
       "    </tr>\n",
       "    <tr>\n",
       "      <th>52787</th>\n",
       "      <td>0</td>\n",
       "      <td>id10786/inq3kIkxGPA/00003.wav</td>\n",
       "      <td>id10381/TC9hxG_pVzM/00004.wav</td>\n",
       "    </tr>\n",
       "  </tbody>\n",
       "</table>\n",
       "<p>52788 rows × 3 columns</p>\n",
       "</div>"
      ],
      "text/plain": [
       "       0                              1                              2\n",
       "0      1  id11230/NzkV5Ct5L6A/00009.wav  id11230/QT0T8hWKh1Y/00007.wav\n",
       "1      0  id11184/2fq0yy2gN9k/00034.wav  id10538/R8cb0F2NUcU/00001.wav\n",
       "2      1  id11230/NzkV5Ct5L6A/00009.wav  id11230/HqqLQgVZktQ/00001.wav\n",
       "3      0  id10143/69XxH60bd4Y/00003.wav  id10918/giRD3g15ZSg/00003.wav\n",
       "4      1  id11230/NzkV5Ct5L6A/00009.wav  id11230/ADLO9eWGUIY/00011.wav\n",
       "...   ..                            ...                            ...\n",
       "52783  1  id10635/3euqU5PKafw/00004.wav  id10635/phVMDrsjxrk/00015.wav\n",
       "52784  0  id10719/3kRa0SluANU/00004.wav  id10991/46hVZI15pmE/00004.wav\n",
       "52785  1  id10540/x056ioqqn8A/00003.wav  id10540/G2W41pvvZs0/00007.wav\n",
       "52786  1  id10484/qBrXmKPpFYY/00007.wav  id10484/qBrXmKPpFYY/00028.wav\n",
       "52787  0  id10786/inq3kIkxGPA/00003.wav  id10381/TC9hxG_pVzM/00004.wav\n",
       "\n",
       "[52788 rows x 3 columns]"
      ]
     },
     "execution_count": 27,
     "metadata": {},
     "output_type": "execute_result"
    }
   ],
   "source": [
    "balanced_male_pairs"
   ]
  },
  {
   "cell_type": "code",
   "execution_count": 18,
   "metadata": {},
   "outputs": [
    {
     "name": "stdout",
     "output_type": "stream",
     "text": [
      "Wrote 0 of 5000 utterances in 0.1213064193725586 seconds (0.1213064193725586 seconds from start)\n",
      "Wrote 1000 of 5000 utterances in 106.44076418876648 seconds (106.56207060813904 seconds from start)\n",
      "Wrote 2000 of 5000 utterances in 84.26895356178284 seconds (190.83102416992188 seconds from start)\n",
      "Wrote 3000 of 5000 utterances in 59.418402433395386 seconds (250.24942660331726 seconds from start)\n",
      "Wrote 4000 of 5000 utterances in 36.00027275085449 seconds (286.24969935417175 seconds from start)\n"
     ]
    }
   ],
   "source": [
    "make_pairs(female_utters, '/home/jupyter/voxceleb-fairness/data/lists/vox1_female_all.txt')"
   ]
  },
  {
   "cell_type": "code",
   "execution_count": 19,
   "metadata": {},
   "outputs": [],
   "source": [
    "female_pairs = pd.read_csv('/home/jupyter/voxceleb-fairness/data/lists/vox1_female_all.txt', header=None, sep=' ')"
   ]
  },
  {
   "cell_type": "code",
   "execution_count": 20,
   "metadata": {},
   "outputs": [],
   "source": [
    "balanced_female_pairs = pd.concat([female_pairs[female_pairs[0] == 1].reset_index(drop=True), female_pairs[female_pairs[0] == 0].sample(sum(female_pairs[0] == 1)).reset_index(drop=True)]).sort_index().reset_index(drop=True)"
   ]
  },
  {
   "cell_type": "code",
   "execution_count": 21,
   "metadata": {},
   "outputs": [
    {
     "data": {
      "text/html": [
       "<div>\n",
       "<style scoped>\n",
       "    .dataframe tbody tr th:only-of-type {\n",
       "        vertical-align: middle;\n",
       "    }\n",
       "\n",
       "    .dataframe tbody tr th {\n",
       "        vertical-align: top;\n",
       "    }\n",
       "\n",
       "    .dataframe thead th {\n",
       "        text-align: right;\n",
       "    }\n",
       "</style>\n",
       "<table border=\"1\" class=\"dataframe\">\n",
       "  <thead>\n",
       "    <tr style=\"text-align: right;\">\n",
       "      <th></th>\n",
       "      <th>0</th>\n",
       "      <th>1</th>\n",
       "      <th>2</th>\n",
       "    </tr>\n",
       "  </thead>\n",
       "  <tbody>\n",
       "    <tr>\n",
       "      <th>0</th>\n",
       "      <td>1</td>\n",
       "      <td>id10795/z5_ZEt9c-IQ/00003.wav</td>\n",
       "      <td>id10795/InEZE75bHjU/00004.wav</td>\n",
       "    </tr>\n",
       "    <tr>\n",
       "      <th>1</th>\n",
       "      <td>0</td>\n",
       "      <td>id10682/iOpqNblDlJU/00001.wav</td>\n",
       "      <td>id11203/987UrtpOII8/00005.wav</td>\n",
       "    </tr>\n",
       "    <tr>\n",
       "      <th>2</th>\n",
       "      <td>1</td>\n",
       "      <td>id10795/z5_ZEt9c-IQ/00003.wav</td>\n",
       "      <td>id10795/InEZE75bHjU/00005.wav</td>\n",
       "    </tr>\n",
       "    <tr>\n",
       "      <th>3</th>\n",
       "      <td>0</td>\n",
       "      <td>id10909/M3rfGq1-lXg/00003.wav</td>\n",
       "      <td>id10439/bLufSCk9P2k/00043.wav</td>\n",
       "    </tr>\n",
       "    <tr>\n",
       "      <th>4</th>\n",
       "      <td>1</td>\n",
       "      <td>id10795/z5_ZEt9c-IQ/00003.wav</td>\n",
       "      <td>id10795/6WpEq7PXG0M/00002.wav</td>\n",
       "    </tr>\n",
       "    <tr>\n",
       "      <th>...</th>\n",
       "      <td>...</td>\n",
       "      <td>...</td>\n",
       "      <td>...</td>\n",
       "    </tr>\n",
       "    <tr>\n",
       "      <th>59627</th>\n",
       "      <td>1</td>\n",
       "      <td>id10387/4ry5D-jgSQU/00005.wav</td>\n",
       "      <td>id10387/7d4PiFleEVM/00001.wav</td>\n",
       "    </tr>\n",
       "    <tr>\n",
       "      <th>59628</th>\n",
       "      <td>0</td>\n",
       "      <td>id10123/Qw8-jKhzwEg/00006.wav</td>\n",
       "      <td>id10407/kHiKqkxnypg/00016.wav</td>\n",
       "    </tr>\n",
       "    <tr>\n",
       "      <th>59629</th>\n",
       "      <td>1</td>\n",
       "      <td>id10061/8GGP83uAxI4/00010.wav</td>\n",
       "      <td>id10061/SFMhpLiLgWo/00014.wav</td>\n",
       "    </tr>\n",
       "    <tr>\n",
       "      <th>59630</th>\n",
       "      <td>1</td>\n",
       "      <td>id10615/C9MSVzhtB8A/00005.wav</td>\n",
       "      <td>id10615/Bi7kCsbg5L0/00008.wav</td>\n",
       "    </tr>\n",
       "    <tr>\n",
       "      <th>59631</th>\n",
       "      <td>0</td>\n",
       "      <td>id10472/SfaVmtSL384/00009.wav</td>\n",
       "      <td>id10229/cwjqhPMhntg/00001.wav</td>\n",
       "    </tr>\n",
       "  </tbody>\n",
       "</table>\n",
       "<p>59632 rows × 3 columns</p>\n",
       "</div>"
      ],
      "text/plain": [
       "       0                              1                              2\n",
       "0      1  id10795/z5_ZEt9c-IQ/00003.wav  id10795/InEZE75bHjU/00004.wav\n",
       "1      0  id10682/iOpqNblDlJU/00001.wav  id11203/987UrtpOII8/00005.wav\n",
       "2      1  id10795/z5_ZEt9c-IQ/00003.wav  id10795/InEZE75bHjU/00005.wav\n",
       "3      0  id10909/M3rfGq1-lXg/00003.wav  id10439/bLufSCk9P2k/00043.wav\n",
       "4      1  id10795/z5_ZEt9c-IQ/00003.wav  id10795/6WpEq7PXG0M/00002.wav\n",
       "...   ..                            ...                            ...\n",
       "59627  1  id10387/4ry5D-jgSQU/00005.wav  id10387/7d4PiFleEVM/00001.wav\n",
       "59628  0  id10123/Qw8-jKhzwEg/00006.wav  id10407/kHiKqkxnypg/00016.wav\n",
       "59629  1  id10061/8GGP83uAxI4/00010.wav  id10061/SFMhpLiLgWo/00014.wav\n",
       "59630  1  id10615/C9MSVzhtB8A/00005.wav  id10615/Bi7kCsbg5L0/00008.wav\n",
       "59631  0  id10472/SfaVmtSL384/00009.wav  id10229/cwjqhPMhntg/00001.wav\n",
       "\n",
       "[59632 rows x 3 columns]"
      ]
     },
     "execution_count": 21,
     "metadata": {},
     "output_type": "execute_result"
    }
   ],
   "source": [
    "balanced_female_pairs"
   ]
  },
  {
   "cell_type": "code",
   "execution_count": 22,
   "metadata": {},
   "outputs": [],
   "source": [
    "balanced_male_pairs.to_csv('/home/jupyter/voxceleb-fairness/data/lists/vox1_male_all_balanced.txt', index=False, header=None, sep=' ')"
   ]
  },
  {
   "cell_type": "code",
   "execution_count": 23,
   "metadata": {},
   "outputs": [],
   "source": [
    "balanced_female_pairs.to_csv('/home/jupyter/voxceleb-fairness/data/lists/vox1_female_all_balanced.txt', index=False, header=None, sep=' ')"
   ]
  }
 ],
 "metadata": {
  "environment": {
   "name": "pytorch-gpu.1-6.m59",
   "type": "gcloud",
   "uri": "gcr.io/deeplearning-platform-release/pytorch-gpu.1-6:m59"
  },
  "kernelspec": {
   "display_name": "Python 3",
   "language": "python",
   "name": "python3"
  },
  "language_info": {
   "codemirror_mode": {
    "name": "ipython",
    "version": 3
   },
   "file_extension": ".py",
   "mimetype": "text/x-python",
   "name": "python",
   "nbconvert_exporter": "python",
   "pygments_lexer": "ipython3",
   "version": "3.7.8"
  }
 },
 "nbformat": 4,
 "nbformat_minor": 4
}
